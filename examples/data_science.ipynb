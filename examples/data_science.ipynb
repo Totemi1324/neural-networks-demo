{
  "nbformat": 4,
  "nbformat_minor": 0,
  "metadata": {
    "colab": {
      "provenance": []
    },
    "kernelspec": {
      "name": "python3",
      "display_name": "Python 3"
    },
    "language_info": {
      "name": "python"
    }
  },
  "cells": [
    {
      "cell_type": "code",
      "execution_count": 2,
      "metadata": {
        "id": "y2okmtchXi2L"
      },
      "outputs": [],
      "source": [
        "import matplotlib.pyplot as plt\n",
        "import numpy as np\n",
        "import pandas as pd\n",
        "from IPython.display import display"
      ]
    },
    {
      "cell_type": "markdown",
      "source": [
        "https://www.w3resource.com/python-exercises/pandas/index.php\n",
        "https://www.kaggle.com/code/alexisbcook/missing-values"
      ],
      "metadata": {
        "id": "q8BVzZqEYYQw"
      }
    },
    {
      "cell_type": "code",
      "source": [
        "data = pd.read_csv('../input/melbourne-housing-snapshot/melb_data.csv')\n",
        "\n",
        "display(data.tail())"
      ],
      "metadata": {
        "id": "Js05U0DMXnP7"
      },
      "execution_count": null,
      "outputs": []
    },
    {
      "cell_type": "markdown",
      "source": [
        "### Useful places to get data from (for practice or real-world applications):\n",
        "\n",
        "- [Kaggle](https://www.kaggle.com/): Largest repository of publicly available datasets (over 50 000) for data science applications\n",
        "- [Data.gov](https://data.gov/): US government's open data repository. Topics: agriculture and climate, energy, marine transportation, and more.\n",
        "- [NASA Open Data Portal](https://data.nasa.gov/): Catalog of publicly available NASA datasets. Topics: national aeronautics and space data, physical oceanography, ocean biology data, earth resources observations, social-economic data, and more.\n",
        "- [Earthdata by NASA](https://earthdata.nasa.gov/): NASA dataset catalog partition for earth-related collections. Topics: atmosphere, land, ocean, cryosphere, and more.\n",
        "- [NASDAQ Data Link](https://data.nasdaq.com/): Data source from the world's largest technology fund. Topics: finance and economics, stock prices, trading activity, interest rate dynamics, and more.\n",
        "\n",
        "There are many projects that start by first scouting for interesting datasets, so feel free to browse and let these inspire you!"
      ],
      "metadata": {
        "id": "7etqwWksZQiH"
      }
    }
  ]
}