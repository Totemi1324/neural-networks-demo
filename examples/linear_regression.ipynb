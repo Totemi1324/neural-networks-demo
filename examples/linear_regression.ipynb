{
 "cells": [
  {
   "cell_type": "code",
   "execution_count": null,
   "metadata": {},
   "outputs": [],
   "source": [
    "import tensorflow as tf\n",
    "from tensorflow import keras\n",
    "from tensorflow.keras.models import Sequential\n",
    "from tensorflow.keras.layers import Activation, Dense, Normalization\n",
    "from tensorflow.keras.optimizers import Adam\n",
    "import matplotlib.pyplot as plt\n",
    "import numpy as np\n",
    "import pandas as pd\n",
    "from IPython.display import display"
   ]
  },
  {
   "cell_type": "code",
   "execution_count": null,
   "metadata": {},
   "outputs": [],
   "source": [
    "url = 'http://archive.ics.uci.edu/ml/machine-learning-databases/auto-mpg/auto-mpg.data'\n",
    "column_names = ['MPG', 'Cylinders', 'Displacement', 'Horsepower', 'Weight', 'Acceleration', 'Model Year', 'Origin']\n",
    "\n",
    "raw_dataset = pd.read_csv(url, names=column_names, na_values='?', comment='\\t', sep=' ', skipinitialspace=True)\n",
    "dataset = raw_dataset.copy()\n",
    "dataset = dataset.dropna()\n",
    "dataset['Origin'] = dataset['Origin'].map({1: 'USA', 2: 'Europe', 3: 'Japan'})\n",
    "dataset = pd.get_dummies(dataset, columns=['Origin'], prefix='', prefix_sep='')\n",
    "\n",
    "dataset.tail()\n",
    "\n",
    "train_dataset = dataset.sample(frac=0.8, random_state=0)\n",
    "test_dataset = dataset.drop(train_dataset.index)\n",
    "\n",
    "train_features = train_dataset.copy()\n",
    "test_features = test_dataset.copy()\n",
    "\n",
    "train_labels = train_features.pop('MPG')\n",
    "test_labels = test_features.pop('MPG')\n",
    "test_results = {}\n",
    "\n",
    "normalizer = Normalization(axis=-1)\n",
    "normalizer.adapt(np.array(train_features))\n",
    "horsepower = np.array(train_features['Horsepower'])\n",
    "horsepower_normalizer = Normalization(input_shape=[1,], axis=None)\n",
    "horsepower_normalizer.adapt(horsepower)\n",
    "\n",
    "def plot_loss(history, subplot_rows, subplot_columns, subplot_place): \n",
    "    plt.subplot(subplot_rows, subplot_columns, subplot_place)\n",
    "    plt.title(\"Training history\")\n",
    "    plt.plot(history.history['loss'], label='loss')\n",
    "    plt.plot(history.history['val_loss'], label='val_loss')\n",
    "    plt.xlabel('Epoch')\n",
    "    plt.ylabel('Error [MPG]')\n",
    "    plt.ylim([0, 10])\n",
    "    plt.legend()\n",
    "    plt.grid(True)\n",
    "\n",
    "def plot_horsepower_predictions(x, y, subplot_rows, subplot_columns, subplot_place):\n",
    "    plt.subplot(subplot_rows, subplot_columns, subplot_place)\n",
    "    plt.title(\"Predictions over real data\")\n",
    "    plt.scatter(train_features['Horsepower'], train_labels, label='Data')\n",
    "    plt.plot(x, y, color='k', label='Predictions')\n",
    "    plt.xlabel('Horsepower')\n",
    "    plt.ylabel('MPG')\n",
    "    plt.legend()\n",
    "    \n",
    "def plot_predictions(test_predictions, test_labels, subplot_rows, subplot_columns, subplot_place):\n",
    "    plt.subplot(subplot_rows, subplot_columns, subplot_place)\n",
    "    plt.title(\"Model predictions vs. real test labels\")\n",
    "    plt.scatter(test_labels, test_predictions)\n",
    "    plt.xlabel('True Values [MPG]')\n",
    "    plt.ylabel('Predictions [MPG]')\n",
    "    lims = [0, 50]\n",
    "    plt.xlim(lims)\n",
    "    plt.ylim(lims)\n",
    "    plt.plot(lims, lims, color='lightblue')\n",
    "\n",
    "def error_distribution(test_predictions, test_labels, subplot_rows, subplot_columns, subplot_place):\n",
    "    error = test_predictions - test_labels\n",
    "    \n",
    "    plt.subplot(subplot_rows, subplot_columns, subplot_place)\n",
    "    plt.title(\"Error distribution\")\n",
    "    plt.hist(error, bins=25)\n",
    "    plt.xlabel('Prediction Error [MPG]')\n",
    "    plt.ylabel('Count')\n",
    "\n",
    "display(train_features)"
   ]
  },
  {
   "attachments": {},
   "cell_type": "markdown",
   "metadata": {},
   "source": [
    "The user should edit this function:"
   ]
  },
  {
   "cell_type": "code",
   "execution_count": 1,
   "metadata": {},
   "outputs": [],
   "source": [
    "def build_and_compile_model(norm):\n",
    "  model = Sequential([\n",
    "      norm,\n",
    "      Dense(64, activation='relu'),\n",
    "      Dense(64, activation='relu'),\n",
    "      Dense(1)\n",
    "  ])\n",
    "\n",
    "  learning_rate = 0.001\n",
    "\n",
    "  model.compile(loss='mean_absolute_error',\n",
    "                optimizer=Adam(learning_rate))\n",
    "  return model"
   ]
  },
  {
   "attachments": {},
   "cell_type": "markdown",
   "metadata": {},
   "source": [
    "Training only on horsepower:"
   ]
  },
  {
   "cell_type": "code",
   "execution_count": null,
   "metadata": {},
   "outputs": [],
   "source": [
    "dnn_horsepower_model = build_and_compile_model(horsepower_normalizer)\n",
    "dnn_horsepower_model.summary()\n",
    "\n",
    "print(\"The model is training, please wait...\")\n",
    "history = dnn_horsepower_model.fit(\n",
    "    train_features['Horsepower'],\n",
    "    train_labels,\n",
    "    validation_split=0.2,\n",
    "    verbose=0, epochs=100)\n",
    "print(\"Finished! Printing results\");\n",
    "\n",
    "x = tf.linspace(0.0, 250, 251)\n",
    "y = dnn_horsepower_model.predict(x)\n",
    "\n",
    "test_results = {}\n",
    "test_results['dnn_horsepower_model'] = dnn_horsepower_model.evaluate(test_features['Horsepower'], test_labels, verbose=0)\n",
    "display(pd.DataFrame(test_results, index=['Mean absolute error [MPG]']).T)\n",
    "\n",
    "fig = plt.figure()\n",
    "fig.set_figheight(4)\n",
    "fig.set_figwidth(15)\n",
    "\n",
    "plot_loss(history, 1, 3, 1)\n",
    "test_predictions = dnn_horsepower_model.predict(test_features['Horsepower']).flatten()\n",
    "plot_horsepower_predictions(x, y, 1, 3, 2)\n",
    "error_distribution(test_predictions, test_labels, 1, 3, 3)\n",
    "\n",
    "plt.show()"
   ]
  },
  {
   "attachments": {},
   "cell_type": "markdown",
   "metadata": {},
   "source": [
    "Training on all features:"
   ]
  },
  {
   "cell_type": "code",
   "execution_count": null,
   "metadata": {},
   "outputs": [],
   "source": [
    "dnn_model = build_and_compile_model(normalizer)\n",
    "dnn_model.summary()\n",
    "\n",
    "print(\"The model is training, please wait...\")\n",
    "history = dnn_model.fit(\n",
    "    train_features,\n",
    "    train_labels,\n",
    "    validation_split=0.2,\n",
    "    verbose=0, epochs=100)\n",
    "print(\"Finished! Printing results\");\n",
    "\n",
    "test_results['dnn_model'] = dnn_model.evaluate(test_features, test_labels, verbose=0)\n",
    "display(pd.DataFrame(test_results, index=['Mean absolute error [MPG]']).T)\n",
    "\n",
    "fig = plt.figure()\n",
    "fig.set_figheight(4)\n",
    "fig.set_figwidth(15)\n",
    "\n",
    "plot_loss(history, 1, 3, 1)\n",
    "test_predictions = dnn_model.predict(test_features).flatten()\n",
    "plot_predictions(test_predictions, test_labels, 1, 3, 2)\n",
    "error_distribution(test_predictions, test_labels, 1, 3, 3)\n",
    "\n",
    "plt.show()"
   ]
  },
  {
   "attachments": {},
   "cell_type": "markdown",
   "metadata": {},
   "source": [
    "This is some filler text. It should get removed soon."
   ]
  }
 ],
 "metadata": {
  "kernelspec": {
   "display_name": "base",
   "language": "python",
   "name": "python3"
  },
  "language_info": {
   "codemirror_mode": {
    "name": "ipython",
    "version": 3
   },
   "file_extension": ".py",
   "mimetype": "text/x-python",
   "name": "python",
   "nbconvert_exporter": "python",
   "pygments_lexer": "ipython3",
   "version": "3.7.4"
  },
  "orig_nbformat": 4,
  "vscode": {
   "interpreter": {
    "hash": "ad2bdc8ecc057115af97d19610ffacc2b4e99fae6737bb82f5d7fb13d2f2c186"
   }
  }
 },
 "nbformat": 4,
 "nbformat_minor": 2
}
